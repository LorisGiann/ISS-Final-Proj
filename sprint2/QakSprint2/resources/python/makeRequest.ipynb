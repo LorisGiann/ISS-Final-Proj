{
 "cells": [
  {
   "cell_type": "code",
   "execution_count": 5,
   "id": "1c7aa916",
   "metadata": {},
   "outputs": [
    {
     "name": "stdout",
     "output_type": "stream",
     "text": [
      "CONNECTED  ('localhost', 8095)\n",
      "sendMsg  msg(depositrequest, request,python,wasteservice,depositrequest(GLASS,2),1)\n",
      "handleAnswer \n",
      "final reply= msg(loadaccept,reply,wasteservice,python,loadaccept(GLASS,2.0),45)\n",
      "\n",
      "BYE\n"
     ]
    }
   ],
   "source": [
    "##############################################################\n",
    "# basicRobotCaller.py\n",
    "##############################################################\n",
    "import socket\n",
    "import time\n",
    "\n",
    "port       = 8095\n",
    "sock       = socket.socket(socket.AF_INET, socket.SOCK_STREAM)\n",
    "\n",
    "def connect(port) :\n",
    "    server_address = ('localhost', port)\n",
    "    sock.connect(server_address)    \n",
    "    print(\"CONNECTED \" , server_address)\n",
    "\n",
    "def sendMsg( message ) :\n",
    "    print(\"sendMsg \", message)\n",
    "    msg = message + \"\\n\"\n",
    "    byt=msg.encode()    #required in Python3\n",
    "    sock.send(byt)\n",
    "\n",
    "def handleAnswer() :\n",
    "    print(\"handleAnswer \" )\n",
    "    while True:  ##client wants to maintain the connection\n",
    "        reply = ''\n",
    "        while True:\n",
    "            answer = sock.recv(50)\n",
    "            ## print(\"answer len=\", len(answer))\n",
    "            if len(answer) <= 0 :\n",
    "                break\n",
    "            reply += answer.decode(\"utf-8\")\n",
    "            ## print(\"reply=\", reply)\n",
    "            if reply.endswith(\"\\n\") :\n",
    "                break\n",
    "        print(\"final reply=\", reply)\n",
    "        break\n",
    "    \t\n",
    "def emit( event ) :\n",
    "    print(\"EMIT \", event)\n",
    "    msg = event + \"\\n\"\n",
    "    byt=msg.encode()    #required in Python3\n",
    "    sock.send(byt)\n",
    "\n",
    "def work() :\n",
    "    sendMsg( \"msg(depositrequest, request,python,wasteservice,depositrequest(GLASS,2),1)\" ) \n",
    "    handleAnswer()\n",
    "    ##time.sleep(1.5)\n",
    "    ##emit( alarm )\n",
    "\n",
    "\n",
    "def terminate() :\n",
    "    sock.close()\n",
    "    print(\"BYE\")\n",
    "\n",
    "###########################################    \n",
    "connect(port)\n",
    "work()\n",
    "terminate()  \n"
   ]
  },
  {
   "cell_type": "code",
   "execution_count": null,
   "id": "57f562f0",
   "metadata": {},
   "outputs": [],
   "source": []
  },
  {
   "cell_type": "code",
   "execution_count": null,
   "id": "4135c39d",
   "metadata": {},
   "outputs": [],
   "source": []
  }
 ],
 "metadata": {
  "kernelspec": {
   "display_name": "Python 3 (ipykernel)",
   "language": "python",
   "name": "python3"
  },
  "language_info": {
   "codemirror_mode": {
    "name": "ipython",
    "version": 3
   },
   "file_extension": ".py",
   "mimetype": "text/x-python",
   "name": "python",
   "nbconvert_exporter": "python",
   "pygments_lexer": "ipython3",
   "version": "3.9.12"
  }
 },
 "nbformat": 4,
 "nbformat_minor": 5
}
